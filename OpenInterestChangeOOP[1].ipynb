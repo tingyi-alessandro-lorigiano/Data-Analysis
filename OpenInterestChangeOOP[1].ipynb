{
 "cells": [
  {
   "cell_type": "code",
   "execution_count": 128,
   "id": "4f5ca482",
   "metadata": {},
   "outputs": [
    {
     "data": {
      "text/html": [
       "<style>body {\n",
       "    margin: 0;\n",
       "    font-family: Helvetica;\n",
       "}\n",
       "table.dataframe {\n",
       "    border-collapse: collapse;\n",
       "    border: none;\n",
       "}\n",
       "table.dataframe tr {\n",
       "    border: none;\n",
       "}\n",
       "table.dataframe td, table.dataframe th {\n",
       "    margin: 0;\n",
       "    border: 1px solid white;\n",
       "    padding-left: 0.25em;\n",
       "    padding-right: 0.25em;\n",
       "}\n",
       "table.dataframe th:not(:empty) {\n",
       "    background-color: #fec;\n",
       "    text-align: left;\n",
       "    font-weight: normal;\n",
       "}\n",
       "table.dataframe tr:nth-child(2) th:empty {\n",
       "    border-left: none;\n",
       "    border-right: 1px dashed #888;\n",
       "}\n",
       "table.dataframe td {\n",
       "    border: 2px solid #ccf;\n",
       "    background-color: #f4f4ff;\n",
       "}\n",
       "h3 {\n",
       "    color: white;\n",
       "    background-color: black;\n",
       "    padding: 0.5em;\n",
       "}\n",
       "</style>"
      ],
      "text/plain": [
       "<IPython.core.display.HTML object>"
      ]
     },
     "execution_count": 128,
     "metadata": {},
     "output_type": "execute_result"
    }
   ],
   "source": [
    "from IPython.core.display import HTML\n",
    "from IPython.display import Markdown, display\n",
    "def printmd(string):\n",
    "    display(Markdown(string))\n",
    "from pandas import DataFrame\n",
    "css = open('style-table.css').read() + open('style-notebook.css').read()\n",
    "HTML('<style>{}</style>'.format(css))"
   ]
  },
  {
   "cell_type": "code",
   "execution_count": 129,
   "id": "e842a390",
   "metadata": {},
   "outputs": [],
   "source": [
    "holidays2020 = ['2020-01-01', '2020-01-20', '2020-02-17', '2020-04-10', '2020-05-25', '2020-07-03', '2020-09-07']\n",
    "holidays2021 = ['2021-01-01', '2021-01-18', '2021-02-15', '2021-04-02', '2021-05-31', '2021-07-05', '2021-09-06', '2021-11-25', '2021-12-24']\n",
    "holidays2022 = ['2022-01-17', '2022-02-21', '2022-04-15', '2022-05-30', '2022-06-20', '2022-07-04', '2022-09-05', '2022-12-26']\n",
    "\n",
    "weekdays_year = pd.date_range(start='2022/1/1', end='2022/12/31', freq='B')\n",
    "\n",
    "from datetime import date\n",
    "\n",
    "\n",
    "\n",
    "\n",
    "\n",
    "def closestTradingDate():\n",
    "    # closest trading day\n",
    "    from pandas.tseries.offsets import DateOffset\n",
    "\n",
    "    today_date = pd.Timestamp(date.today())\n",
    "    closest_date = today_date\n",
    "\n",
    "    # Checks if today's date is SATURDAY\n",
    "    if (today_date.isoweekday() == 6):\n",
    "        closest_date = today_date - DateOffset(days = 1)\n",
    "    # Checks if today_date is SUNDAY\n",
    "\n",
    "    elif (today_date.isoweekday() == 7):\n",
    "        closest_date = today_date - DateOffset(days = 2)\n",
    "\n",
    "    # Check if the Friday is a holiday and subtract another day\n",
    "    while(str(closest_date)[:10] in holidays2022):\n",
    "        closest_date = closest_date - DateOffset(days = 1)\n",
    "    \n",
    "    # returns only date ('YYYY-MM-DD') without time\n",
    "    closest_date = str(closest_date)[:10]\n",
    "    \n",
    "    return closest_date\n",
    "\n",
    "\n",
    "def listOfDatesToCurrent():\n",
    "# returns a list of active trading dates from the year 2022 (can change to be any year)\n",
    "    dates = []\n",
    "\n",
    "    for num in range(len(weekdays_year)):\n",
    "\n",
    "        # Changing it from a 'pandas timestamp' to a string with only year-month-day\n",
    "        dates.append(weekdays_year.date[num].strftime('%Y-%m-%d'))\n",
    "\n",
    "    # Disclude holidays from active trading days\n",
    "    dates = [date for date in dates if date not in holidays2022]\n",
    "    try:\n",
    "        # this slice will stop at today's date from first day\n",
    "        # finds the index of today's date (date.today()) and slices list to stop at today\n",
    "        dates_to_present = dates[:dates.index(closestTradingDate())+1]\n",
    "    except:\n",
    "        print(\"ERROR?! UNCOMMENT BELOW LINE TO GIVE STATIC AMOUNT OF DATES\")\n",
    "    #     dates_to_present = dates[:134]\n",
    "\n",
    "    return dates_to_present\n",
    "# closestTradingDate()\n",
    "# listOfDatesToCurrent()"
   ]
  },
  {
   "cell_type": "code",
   "execution_count": 156,
   "id": "3b87f3f8",
   "metadata": {},
   "outputs": [],
   "source": [
    "class TwoDateTicker():\n",
    "    def __init__(self, ticker, date1, date2):\n",
    "        \n",
    "        # make 'date1' always the closer date\n",
    "        datelist = list(reversed(listOfDatesToCurrent()))\n",
    "        if datelist.index(date1) > datelist.index(date2):\n",
    "            temp = date1\n",
    "            date1 = date2\n",
    "            date2 = temp\n",
    "            \n",
    "        self.ticker = ticker\n",
    "        self.date1 = date1\n",
    "        self.date2 = date2\n",
    "        self.path = r\"C:\\Users\\lorig\\Desktop\\PythonCode\\Projects, Exercises, Programs\\Trade Alert Journey\\Data\\{}\\{}_oi_strike_series\".format(self.ticker, self.ticker)\n",
    "        self.filenameList = os.listdir(self.path)\n",
    "        \n",
    "        # Might not use these?\n",
    "        self.df1, self.df2 = self.dates()\n",
    "        \n",
    "        \n",
    "        \n",
    "    def dates(self):\n",
    "        date_1 = False\n",
    "        date_2 = False\n",
    "        df1 = 0\n",
    "        df2 = 0\n",
    "#         print(\"Enter two dates - I will see whether they are in our system.\")\n",
    "        for file in self.filenameList:\n",
    "            x = file.split(\"_\")[4][:-4]\n",
    "            if self.date1 == x:\n",
    "                date_1 = True\n",
    "                df1 = pd.read_csv(\"{}/{}\".format(self.path, file))\n",
    "            if self.date2 == x:\n",
    "                date_2 = True\n",
    "                df2 = pd.read_csv(\"{}/{}\".format(self.path, file))\n",
    "\n",
    "        if date_1 and date_2 is True:\n",
    "            print('Data is available for these dates.\\n')\n",
    "\n",
    "        else:\n",
    "            printmd(\"***Please enter new dates!***\")\n",
    "        self.df1 = df1\n",
    "        return df1, df2\n",
    "    \n",
    "    def print(self):\n",
    "        display(self.df1.head(3))\n",
    "        \n",
    "    \n",
    "    def difference(self):\n",
    "        df1, df2 = self.dates()\n",
    "        \n",
    "        "
   ]
  },
  {
   "cell_type": "code",
   "execution_count": 157,
   "id": "55994d2e",
   "metadata": {},
   "outputs": [
    {
     "name": "stdout",
     "output_type": "stream",
     "text": [
      "Data is available for these dates.\n",
      "\n"
     ]
    },
    {
     "data": {
      "text/html": [
       "<div>\n",
       "<style scoped>\n",
       "    .dataframe tbody tr th:only-of-type {\n",
       "        vertical-align: middle;\n",
       "    }\n",
       "\n",
       "    .dataframe tbody tr th {\n",
       "        vertical-align: top;\n",
       "    }\n",
       "\n",
       "    .dataframe thead th {\n",
       "        text-align: right;\n",
       "    }\n",
       "</style>\n",
       "<table border=\"1\" class=\"dataframe\">\n",
       "  <thead>\n",
       "    <tr style=\"text-align: right;\">\n",
       "      <th></th>\n",
       "      <th>Strikes</th>\n",
       "      <th>2022-08-26</th>\n",
       "      <th>2022-08-29</th>\n",
       "      <th>2022-08-31</th>\n",
       "      <th>2022-09-02</th>\n",
       "      <th>2022-09-06</th>\n",
       "      <th>2022-09-07</th>\n",
       "      <th>2022-09-09</th>\n",
       "      <th>2022-09-12</th>\n",
       "      <th>2022-09-14</th>\n",
       "      <th>...</th>\n",
       "      <th>2023-03-17</th>\n",
       "      <th>2023-03-31</th>\n",
       "      <th>2023-06-16</th>\n",
       "      <th>2023-06-30</th>\n",
       "      <th>2023-09-15</th>\n",
       "      <th>2023-12-15</th>\n",
       "      <th>2024-01-19</th>\n",
       "      <th>2024-06-21</th>\n",
       "      <th>2024-12-20</th>\n",
       "      <th>Total OI per Strike</th>\n",
       "    </tr>\n",
       "  </thead>\n",
       "  <tbody>\n",
       "    <tr>\n",
       "      <th>0</th>\n",
       "      <td>85.0</td>\n",
       "      <td>0.0</td>\n",
       "      <td>0.0</td>\n",
       "      <td>0.0</td>\n",
       "      <td>0.0</td>\n",
       "      <td>0.0</td>\n",
       "      <td>0.0</td>\n",
       "      <td>0.0</td>\n",
       "      <td>0.0</td>\n",
       "      <td>0.0</td>\n",
       "      <td>...</td>\n",
       "      <td>0.0</td>\n",
       "      <td>0.0</td>\n",
       "      <td>0.0</td>\n",
       "      <td>0.0</td>\n",
       "      <td>0.0</td>\n",
       "      <td>0.0</td>\n",
       "      <td>0.0</td>\n",
       "      <td>0.0</td>\n",
       "      <td>0.0</td>\n",
       "      <td>27109.0</td>\n",
       "    </tr>\n",
       "    <tr>\n",
       "      <th>1</th>\n",
       "      <td>90.0</td>\n",
       "      <td>0.0</td>\n",
       "      <td>0.0</td>\n",
       "      <td>0.0</td>\n",
       "      <td>0.0</td>\n",
       "      <td>0.0</td>\n",
       "      <td>0.0</td>\n",
       "      <td>0.0</td>\n",
       "      <td>0.0</td>\n",
       "      <td>0.0</td>\n",
       "      <td>...</td>\n",
       "      <td>0.0</td>\n",
       "      <td>0.0</td>\n",
       "      <td>0.0</td>\n",
       "      <td>0.0</td>\n",
       "      <td>0.0</td>\n",
       "      <td>0.0</td>\n",
       "      <td>0.0</td>\n",
       "      <td>0.0</td>\n",
       "      <td>0.0</td>\n",
       "      <td>8141.0</td>\n",
       "    </tr>\n",
       "    <tr>\n",
       "      <th>2</th>\n",
       "      <td>95.0</td>\n",
       "      <td>0.0</td>\n",
       "      <td>0.0</td>\n",
       "      <td>0.0</td>\n",
       "      <td>0.0</td>\n",
       "      <td>0.0</td>\n",
       "      <td>0.0</td>\n",
       "      <td>0.0</td>\n",
       "      <td>0.0</td>\n",
       "      <td>0.0</td>\n",
       "      <td>...</td>\n",
       "      <td>0.0</td>\n",
       "      <td>0.0</td>\n",
       "      <td>0.0</td>\n",
       "      <td>0.0</td>\n",
       "      <td>0.0</td>\n",
       "      <td>0.0</td>\n",
       "      <td>0.0</td>\n",
       "      <td>0.0</td>\n",
       "      <td>0.0</td>\n",
       "      <td>5012.0</td>\n",
       "    </tr>\n",
       "  </tbody>\n",
       "</table>\n",
       "<p>3 rows × 32 columns</p>\n",
       "</div>"
      ],
      "text/plain": [
       "   Strikes  2022-08-26  2022-08-29  2022-08-31  2022-09-02  2022-09-06  \\\n",
       "0     85.0         0.0         0.0         0.0         0.0         0.0   \n",
       "1     90.0         0.0         0.0         0.0         0.0         0.0   \n",
       "2     95.0         0.0         0.0         0.0         0.0         0.0   \n",
       "\n",
       "   2022-09-07  2022-09-09  2022-09-12  2022-09-14  ...  2023-03-17  \\\n",
       "0         0.0         0.0         0.0         0.0  ...         0.0   \n",
       "1         0.0         0.0         0.0         0.0  ...         0.0   \n",
       "2         0.0         0.0         0.0         0.0  ...         0.0   \n",
       "\n",
       "   2023-03-31  2023-06-16  2023-06-30  2023-09-15  2023-12-15  2024-01-19  \\\n",
       "0         0.0         0.0         0.0         0.0         0.0         0.0   \n",
       "1         0.0         0.0         0.0         0.0         0.0         0.0   \n",
       "2         0.0         0.0         0.0         0.0         0.0         0.0   \n",
       "\n",
       "   2024-06-21  2024-12-20  Total OI per Strike  \n",
       "0         0.0         0.0              27109.0  \n",
       "1         0.0         0.0               8141.0  \n",
       "2         0.0         0.0               5012.0  \n",
       "\n",
       "[3 rows x 32 columns]"
      ]
     },
     "metadata": {},
     "output_type": "display_data"
    }
   ],
   "source": [
    "x = TwoDateTicker('SPY', '2022-08-19', '2022-08-25')\n",
    "\n",
    "\n",
    "x.print()\n"
   ]
  },
  {
   "cell_type": "code",
   "execution_count": 120,
   "id": "3893e1fa",
   "metadata": {},
   "outputs": [],
   "source": [
    "class Folder():\n",
    "    def __init__(self, foldername):\n",
    "        self.foldername = foldername\n",
    "        self.filenameList = os.listdir(self.foldername)\n",
    "        \n",
    "\n",
    "    def ordered_dates(self, date1, date2):\n",
    "        datelist = list(reversed(listOfDatesToCurrent()))\n",
    "        if datelist.index(date1) > datelist.index(date2):\n",
    "            temp = date1\n",
    "            date1 = date2\n",
    "            date2 = temp\n",
    "        return date1, date2\n",
    "            \n",
    "    def dates(self, date1, date2):\n",
    "        date_1 = False\n",
    "        date_2 = False\n",
    "        df1 = 0\n",
    "        df2 = 0\n",
    "        date1, date2 = self.ordered_dates(date1, date2)\n",
    "        \n",
    "#         print(\"Enter two dates - I will see whether they are in our system.\")\n",
    "        for file in self.filenameList:\n",
    "            x = file.split(\"_\")[4][:-4]\n",
    "            if date1 == x:\n",
    "                date_1 = True\n",
    "                df1 = pd.read_csv(\"{}/{}\".format(self.foldername, file))\n",
    "            if date2 == x:\n",
    "                date_2 = True\n",
    "                df2 = pd.read_csv(\"{}/{}\".format(self.foldername, file))\n",
    "                \n",
    "        if date_1 and date_2 is True:\n",
    "            print('Data is available for these dates.\\n')\n",
    "            \n",
    "        else:\n",
    "            printmd(\"***Please enter new dates!***\")\n",
    "            \n",
    "        return df1, df2\n",
    "    \n",
    "        # if i have the data, df1 and df2 should now have a pandasDataFrame obj\n",
    "        \n",
    "    def difference(self):\n",
    "        df1, df2 = self.dates()\n",
    "        \n",
    "        \n",
    "        \n",
    "    def expiries(self):\n",
    "        expiries_list = []\n",
    "#         expiries_df1 = ?\n",
    "#         expiries_df2 = ?\n",
    "        df1, df2 = self.dates()\n",
    "        \n",
    "        for i in range(len(df1.count())):\n",
    "            x = df.iloc[0][i]\n",
    "            y = expiryRegex.findall(x)\n",
    "            if bool(y) == True:\n",
    "                for item in y:\n",
    "                    expiries_list.append(item)\n",
    "        \n",
    "        "
   ]
  },
  {
   "cell_type": "code",
   "execution_count": 99,
   "id": "cf717c14",
   "metadata": {},
   "outputs": [],
   "source": [
    "# first I need to write the regexes to turn the HTML into excel files.\n",
    "# i will start writing code that will process some data in the files."
   ]
  },
  {
   "cell_type": "code",
   "execution_count": 100,
   "id": "cbecfbba",
   "metadata": {},
   "outputs": [],
   "source": [
    "# I should take two dates and ticker as input like \"2022-06-03\" & \"2022-07-04\"\n",
    "# then my program should go to the folder and select the two xlsx files \n",
    "# to find the total OI change between the two\n",
    "\n",
    "# use regexes or .split() to find the right files from their numerical dates"
   ]
  },
  {
   "cell_type": "code",
   "execution_count": 121,
   "id": "5604ff36",
   "metadata": {},
   "outputs": [
    {
     "name": "stdout",
     "output_type": "stream",
     "text": [
      "Data is available for these dates.\n",
      "\n"
     ]
    }
   ],
   "source": [
    "import os\n",
    "import pandas as pd\n",
    "\n",
    "main_data_folder = r\"C:\\Users\\lorig\\Desktop\\PythonCode\\Projects, Exercises, Programs\\Trade Alert Journey\\Data\"\n",
    "ticker = \"AAPL\\AAPL_oi_strike_series\"\n",
    "\n",
    "u = Folder(r\"{}\\{}\".format(main_data_folder, ticker))\n",
    "df1, df2 = u.dates('2022-07-25', '2022-08-15')"
   ]
  },
  {
   "cell_type": "code",
   "execution_count": 119,
   "id": "9eb5c9ca",
   "metadata": {},
   "outputs": [
    {
     "name": "stdout",
     "output_type": "stream",
     "text": [
      "both dates exist in system\n"
     ]
    }
   ],
   "source": [
    "x, y = u.dates(\"2022-08-04\", \"2022-07-14\")\n",
    "x =x.set_index('Strikes')\n"
   ]
  },
  {
   "cell_type": "code",
   "execution_count": 117,
   "id": "5cb277d2",
   "metadata": {},
   "outputs": [
    {
     "data": {
      "text/plain": [
       "0.0"
      ]
     },
     "execution_count": 117,
     "metadata": {},
     "output_type": "execute_result"
    }
   ],
   "source": [
    "x['2022-08-05'][35]"
   ]
  },
  {
   "cell_type": "code",
   "execution_count": 122,
   "id": "47eb9b2c",
   "metadata": {},
   "outputs": [
    {
     "ename": "TypeError",
     "evalue": "dates() missing 2 required positional arguments: 'date1' and 'date2'",
     "output_type": "error",
     "traceback": [
      "\u001b[1;31m---------------------------------------------------------------------------\u001b[0m",
      "\u001b[1;31mTypeError\u001b[0m                                 Traceback (most recent call last)",
      "\u001b[1;32m~\\AppData\\Local\\Temp/ipykernel_38016/93932423.py\u001b[0m in \u001b[0;36m<module>\u001b[1;34m\u001b[0m\n\u001b[1;32m----> 1\u001b[1;33m \u001b[0mu\u001b[0m\u001b[1;33m.\u001b[0m\u001b[0mdifference\u001b[0m\u001b[1;33m(\u001b[0m\u001b[1;33m)\u001b[0m\u001b[1;33m\u001b[0m\u001b[1;33m\u001b[0m\u001b[0m\n\u001b[0m",
      "\u001b[1;32m~\\AppData\\Local\\Temp/ipykernel_38016/3251326966.py\u001b[0m in \u001b[0;36mdifference\u001b[1;34m(self)\u001b[0m\n\u001b[0;32m     41\u001b[0m \u001b[1;33m\u001b[0m\u001b[0m\n\u001b[0;32m     42\u001b[0m     \u001b[1;32mdef\u001b[0m \u001b[0mdifference\u001b[0m\u001b[1;33m(\u001b[0m\u001b[0mself\u001b[0m\u001b[1;33m)\u001b[0m\u001b[1;33m:\u001b[0m\u001b[1;33m\u001b[0m\u001b[1;33m\u001b[0m\u001b[0m\n\u001b[1;32m---> 43\u001b[1;33m         \u001b[0mdf1\u001b[0m\u001b[1;33m,\u001b[0m \u001b[0mdf2\u001b[0m \u001b[1;33m=\u001b[0m \u001b[0mself\u001b[0m\u001b[1;33m.\u001b[0m\u001b[0mdates\u001b[0m\u001b[1;33m(\u001b[0m\u001b[1;33m)\u001b[0m\u001b[1;33m\u001b[0m\u001b[1;33m\u001b[0m\u001b[0m\n\u001b[0m\u001b[0;32m     44\u001b[0m \u001b[1;33m\u001b[0m\u001b[0m\n\u001b[0;32m     45\u001b[0m \u001b[1;33m\u001b[0m\u001b[0m\n",
      "\u001b[1;31mTypeError\u001b[0m: dates() missing 2 required positional arguments: 'date1' and 'date2'"
     ]
    }
   ],
   "source": []
  },
  {
   "cell_type": "code",
   "execution_count": 90,
   "id": "0e141599",
   "metadata": {},
   "outputs": [
    {
     "ename": "ValueError",
     "evalue": "DataFrame constructor not properly called!",
     "output_type": "error",
     "traceback": [
      "\u001b[1;31m---------------------------------------------------------------------------\u001b[0m",
      "\u001b[1;31mValueError\u001b[0m                                Traceback (most recent call last)",
      "\u001b[1;32m~\\AppData\\Local\\Temp/ipykernel_6292/1328395980.py\u001b[0m in \u001b[0;36m<module>\u001b[1;34m\u001b[0m\n\u001b[1;32m----> 1\u001b[1;33m \u001b[0mdf\u001b[0m \u001b[1;33m=\u001b[0m \u001b[0mpd\u001b[0m\u001b[1;33m.\u001b[0m\u001b[0mDataFrame\u001b[0m\u001b[1;33m(\u001b[0m\u001b[1;36m0\u001b[0m\u001b[1;33m)\u001b[0m\u001b[1;33m\u001b[0m\u001b[1;33m\u001b[0m\u001b[0m\n\u001b[0m",
      "\u001b[1;32m~\\anaconda3\\lib\\site-packages\\pandas\\core\\frame.py\u001b[0m in \u001b[0;36m__init__\u001b[1;34m(self, data, index, columns, dtype, copy)\u001b[0m\n\u001b[0;32m    728\u001b[0m         \u001b[1;32melse\u001b[0m\u001b[1;33m:\u001b[0m\u001b[1;33m\u001b[0m\u001b[1;33m\u001b[0m\u001b[0m\n\u001b[0;32m    729\u001b[0m             \u001b[1;32mif\u001b[0m \u001b[0mindex\u001b[0m \u001b[1;32mis\u001b[0m \u001b[1;32mNone\u001b[0m \u001b[1;32mor\u001b[0m \u001b[0mcolumns\u001b[0m \u001b[1;32mis\u001b[0m \u001b[1;32mNone\u001b[0m\u001b[1;33m:\u001b[0m\u001b[1;33m\u001b[0m\u001b[1;33m\u001b[0m\u001b[0m\n\u001b[1;32m--> 730\u001b[1;33m                 \u001b[1;32mraise\u001b[0m \u001b[0mValueError\u001b[0m\u001b[1;33m(\u001b[0m\u001b[1;34m\"DataFrame constructor not properly called!\"\u001b[0m\u001b[1;33m)\u001b[0m\u001b[1;33m\u001b[0m\u001b[1;33m\u001b[0m\u001b[0m\n\u001b[0m\u001b[0;32m    731\u001b[0m \u001b[1;33m\u001b[0m\u001b[0m\n\u001b[0;32m    732\u001b[0m             \u001b[1;31m# Argument 1 to \"ensure_index\" has incompatible type \"Collection[Any]\";\u001b[0m\u001b[1;33m\u001b[0m\u001b[1;33m\u001b[0m\u001b[0m\n",
      "\u001b[1;31mValueError\u001b[0m: DataFrame constructor not properly called!"
     ]
    }
   ],
   "source": [
    "df = pd.DataFrame(0)"
   ]
  },
  {
   "cell_type": "code",
   "execution_count": null,
   "id": "fa56fdc5",
   "metadata": {},
   "outputs": [],
   "source": []
  }
 ],
 "metadata": {
  "kernelspec": {
   "display_name": "Python 3 (ipykernel)",
   "language": "python",
   "name": "python3"
  },
  "language_info": {
   "codemirror_mode": {
    "name": "ipython",
    "version": 3
   },
   "file_extension": ".py",
   "mimetype": "text/x-python",
   "name": "python",
   "nbconvert_exporter": "python",
   "pygments_lexer": "ipython3",
   "version": "3.9.7"
  },
  "varInspector": {
   "cols": {
    "lenName": 16,
    "lenType": 16,
    "lenVar": 40
   },
   "kernels_config": {
    "python": {
     "delete_cmd_postfix": "",
     "delete_cmd_prefix": "del ",
     "library": "var_list.py",
     "varRefreshCmd": "print(var_dic_list())"
    },
    "r": {
     "delete_cmd_postfix": ") ",
     "delete_cmd_prefix": "rm(",
     "library": "var_list.r",
     "varRefreshCmd": "cat(var_dic_list()) "
    }
   },
   "types_to_exclude": [
    "module",
    "function",
    "builtin_function_or_method",
    "instance",
    "_Feature"
   ],
   "window_display": false
  }
 },
 "nbformat": 4,
 "nbformat_minor": 5
}
